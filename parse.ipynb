{
 "cells": [
  {
   "cell_type": "code",
   "execution_count": 2,
   "metadata": {},
   "outputs": [],
   "source": [
    "import pandas as pd\n",
    "import csv\n",
    "import warnings\n",
    "import os\n",
    "from parse import *\n",
    "warnings.filterwarnings(\"ignore\")"
   ]
  },
  {
   "cell_type": "code",
   "execution_count": 3,
   "metadata": {},
   "outputs": [],
   "source": [
    "filename = \"Taxi_Trips_-_2019.csv\"\n",
    "df = pd.read_csv(filename)\n",
    "\n",
    "with open('taxiDict.csv') as csv_file:\n",
    "    reader = csv.reader(csv_file)\n",
    "    mydict = dict(reader)\n",
    "\n",
    "dictCompany = dict((v, int(k)) for k, v in mydict.items())\n",
    "\n",
    "dfTaxi = preprocess(df, dictCompany)"
   ]
  },
  {
   "cell_type": "code",
   "execution_count": 4,
   "metadata": {},
   "outputs": [],
   "source": [
    "# All Areas All Taxi\n",
    "mkdir(\"allAreaAllTaxi\")\n",
    "mkdir(\"allAreaAllTaxi/outsideCity/\")\n",
    "mkdir(\"allAreaAllTaxi\")\n",
    "mkdir(\"allAreaAllTaxi/onlyCity/\")\n",
    "\n",
    "preCalc(dfTaxi, \"allAreaAllTaxi/outsideCity/\")\n",
    "dfTaxiSub = dfTaxi[~((dfTaxi['pickupArea']==78) | (dfTaxi['dropArea']==78))]\n",
    "preCalc(dfTaxiSub, \"allAreaAllTaxi/onlyCity/\")"
   ]
  },
  {
   "cell_type": "code",
   "execution_count": 5,
   "metadata": {},
   "outputs": [],
   "source": [
    "# All Taxi Pickup Areas\n",
    "\n",
    "mkdir(\"allTaxi\")\n",
    "mkdir(\"allTaxi/From\")\n",
    "\n",
    "for i in range(1,78):\n",
    "    dir = \"allTaxi/From/Area-{}/\".format(i)\n",
    "    mkdir(dir)\n",
    "\n",
    "    sub = dfTaxi[dfTaxi['pickupArea']==i]\n",
    "    dir = \"allTaxi/From/Area-{}/outsideCity/\".format(i)\n",
    "    mkdir(dir)\n",
    "    preCalc(sub, dir, True, False, True)\n",
    "\n",
    "    sub = dfTaxiSub[dfTaxiSub['pickupArea']==i]\n",
    "    dir = \"allTaxi/From/Area-{}/onlyCity/\".format(i)\n",
    "    mkdir(dir)\n",
    "    preCalc(sub, dir, True, False, False)"
   ]
  },
  {
   "cell_type": "code",
   "execution_count": 6,
   "metadata": {},
   "outputs": [],
   "source": [
    "# All Taxi Dropoff Areas\n",
    "# Percentage Coming From\n",
    "\n",
    "mkdir(\"allArea\")\n",
    "mkdir(\"allTaxi\")\n",
    "mkdir(\"allTaxi/To\")\n",
    "\n",
    "for i in range(1,78):\n",
    "    dir = \"allTaxi/To/Area-{}/\".format(i)\n",
    "    mkdir(dir)\n",
    "\n",
    "    sub = dfTaxi[dfTaxi['dropArea']==i]\n",
    "    dir = \"allTaxi/To/Area-{}/outsideCity/\".format(i)\n",
    "    mkdir(dir)\n",
    "    preCalc(sub, dir, False, True, True)\n",
    "\n",
    "    sub = dfTaxiSub[dfTaxiSub['dropArea']==i]\n",
    "    dir = \"allTaxi/To/Area-{}/onlyCity/\".format(i)\n",
    "    mkdir(dir)\n",
    "    preCalc(sub, dir, False, True, False)"
   ]
  },
  {
   "cell_type": "code",
   "execution_count": 7,
   "metadata": {},
   "outputs": [],
   "source": [
    "# All Areas\n",
    "mkdir(\"allArea\")\n",
    "\n",
    "for i in range(55):\n",
    "    dir = \"allArea/Taxi-{}/\".format(i)\n",
    "    mkdir(dir)\n",
    "\n",
    "    sub = dfTaxi[dfTaxi['company']==i]\n",
    "    dir = \"allArea/Taxi-{}/outsideCity/\".format(i)\n",
    "    mkdir(dir)\n",
    "    preCalc(sub, dir)\n",
    "\n",
    "    sub = dfTaxiSub[dfTaxiSub['company']==i]\n",
    "    dir = \"allArea/Taxi-{}//onlyCity/\".format(i)\n",
    "    mkdir(dir)\n",
    "    preCalc(sub, dir)"
   ]
  },
  {
   "cell_type": "code",
   "execution_count": 8,
   "metadata": {},
   "outputs": [],
   "source": [
    "# Taxi - Area (To/From) All Combinations\n",
    "mkdir(\"allCombination\")\n",
    "\n",
    "for i in range(55):\n",
    "    dir = \"allCombination/Taxi-{}/\".format(i)\n",
    "    mkdir(dir)\n",
    "    mkdir(dir+\"From/\")\n",
    "    mkdir(dir+\"To/\")\n",
    "    \n",
    "    for j in range(1,78):\n",
    "        dir = \"allCombination/Taxi-{}/From/Area-{}\".format(i,j)\n",
    "        mkdir(dir)\n",
    "        \n",
    "        dir = \"allCombination/Taxi-{}/From/Area-{}/onlyCity/\".format(i,j)\n",
    "        mkdir(dir)\n",
    "        sub = dfTaxiSub[(dfTaxiSub['company']==i) & (dfTaxiSub['pickupArea']==j)]\n",
    "        preCalc(sub, dir, True, False, False)\n",
    "\n",
    "        dir = \"allCombination/Taxi-{}/From/Area-{}/outsideCity/\".format(i,j)\n",
    "        mkdir(dir)\n",
    "        sub = dfTaxi[(dfTaxi['company']==i) & (dfTaxi['pickupArea']==j)]\n",
    "        preCalc(sub, dir, True, False, True)\n",
    "\n",
    "        dir = \"allCombination/Taxi-{}/To/Area-{}\".format(i,j)\n",
    "        mkdir(dir)\n",
    "        \n",
    "        dir = \"allCombination/Taxi-{}/To/Area-{}/onlyCity/\".format(i,j)\n",
    "        mkdir(dir)\n",
    "        sub = dfTaxiSub[(dfTaxiSub['company']==i) & (dfTaxiSub['dropArea']==j)]\n",
    "        preCalc(sub, dir, False, True, False)\n",
    "\n",
    "        dir = \"allCombination/Taxi-{}/To/Area-{}/outsideCity/\".format(i,j)\n",
    "        mkdir(dir)\n",
    "        sub = dfTaxi[(dfTaxi['company']==i) & (dfTaxi['dropArea']==j)]\n",
    "        preCalc(sub, dir, False, True, True)"
   ]
  }
 ],
 "metadata": {
  "interpreter": {
   "hash": "40d3a090f54c6569ab1632332b64b2c03c39dcf918b08424e98f38b5ae0af88f"
  },
  "kernelspec": {
   "display_name": "Python 3.8.2 ('base')",
   "language": "python",
   "name": "python3"
  },
  "language_info": {
   "codemirror_mode": {
    "name": "ipython",
    "version": 3
   },
   "file_extension": ".py",
   "mimetype": "text/x-python",
   "name": "python",
   "nbconvert_exporter": "python",
   "pygments_lexer": "ipython3",
   "version": "3.8.2"
  },
  "orig_nbformat": 4
 },
 "nbformat": 4,
 "nbformat_minor": 2
}
