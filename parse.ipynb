{
 "cells": [
  {
   "cell_type": "code",
   "execution_count": 234,
   "metadata": {},
   "outputs": [],
   "source": [
    "import numpy as np\n",
    "import pandas as pd\n",
    "import csv\n",
    "from datetime import datetime\n",
    "import warnings\n",
    "warnings.filterwarnings(\"ignore\")"
   ]
  },
  {
   "cell_type": "code",
   "execution_count": 230,
   "metadata": {},
   "outputs": [],
   "source": [
    "def preprocess(df, dictCompany):\n",
    "\n",
    "    df = df[['Trip Seconds', 'Trip Miles', 'Pickup Community Area', 'Dropoff Community Area', 'Company', 'Trip Start Timestamp']]\n",
    "    df = df[(df['Trip Miles']>=0.5) & (df['Trip Miles']<=100)]\n",
    "    df['tripKM'] = df['Trip Miles'].apply(lambda x: round(x*1.609,2))\n",
    "    df = df[(df['Trip Seconds']>=60) & (df['Trip Seconds']<=18000)]\n",
    "    df['Pickup Community Area'] = df['Pickup Community Area'].mask( ~((df['Pickup Community Area']>=1) & (df['Pickup Community Area']<=77)), 78)\n",
    "    df['Dropoff Community Area'] = df['Dropoff Community Area'].mask( ~((df['Dropoff Community Area']>=1) & (df['Dropoff Community Area']<=77)), 78)\n",
    "    df = df[~((df['Pickup Community Area']==78) & (df['Dropoff Community Area']==78))]\n",
    "    df = df.replace({\"Company\": dictCompany})\n",
    "    df = df.dropna()\n",
    "    df['Trip Start Timestamp'] = pd.to_datetime(df['Trip Start Timestamp'])\n",
    "    df['Trip Start Timestamp'] = df['Trip Start Timestamp'].apply(lambda x: pd.datetime(x.year, x.month, x.day, x.hour, 0, 0))\n",
    "    df['Pickup Community Area'] = df['Pickup Community Area'].astype(int)\n",
    "    df['Dropoff Community Area'] = df['Dropoff Community Area'].astype(int)\n",
    "    df['Trip Seconds'] = df['Trip Seconds'].astype(int)\n",
    "    df = df.rename(columns={'Trip Seconds': 'tripSeconds', 'Trip Miles': 'tripMiles', 'Pickup Community Area': 'pickupArea', 'Dropoff Community Area': 'dropArea', 'Company': 'company', 'Trip Start Timestamp': 'tripStartTime'})\n",
    "\n",
    "    return df\n",
    "    "
   ]
  },
  {
   "cell_type": "code",
   "execution_count": 231,
   "metadata": {},
   "outputs": [],
   "source": [
    "def preCalcAllArea(df, str):\n",
    "    \n",
    "    all_areas_date = df.groupby([df['tripStartTime'].dt.date]).size().to_frame().reset_index().rename(columns={'tripStartTime': 'Date',0: 'Count'})\n",
    "    all_areas_hour = df.groupby([df['tripStartTime'].dt.hour]).size().to_frame().reset_index().rename(columns={'tripStartTime': 'Hour', 0: 'Count'})\n",
    "    all_areas_day = df.groupby([df['tripStartTime'].dt.dayofweek]).size().to_frame().reset_index().rename(columns={'tripStartTime': 'Day', 0: 'Count'}) # Values: 0 to 6. (0: Monday, 6: Sunday)\n",
    "    all_areas_month = df.groupby([df['tripStartTime'].dt.month]).size().to_frame().reset_index().rename(columns={'tripStartTime': 'Month', 0: 'Count'})\n",
    "\n",
    "    all_areas_mileage_miles = df\n",
    "    ranges_miles = [0.49, 5, 10, 15, 20, 30, 50, 100]\n",
    "    all_areas_mileage_miles['mileage_bin_miles'] = pd.cut(df['tripMiles'], bins=ranges_miles)\n",
    "    all_areas_mileage_miles = all_areas_mileage_miles.groupby([all_areas_mileage_miles['mileage_bin_miles']]).size().to_frame().reset_index().rename(columns={'mileage_bin_miles': 'Mileage (miles)', 0: 'Count'})\n",
    "    all_areas_mileage_miles.sort_values(by='Mileage (miles)')\n",
    "    labels = ['0.5 to 5', '5 - 10', '10 - 25', '15 - 20', '20 - 30', '30 - 50',  '50 - 100']\n",
    "    all_areas_mileage_miles['Mileage (miles)'] = all_areas_mileage_miles['Mileage (miles)'].cat.rename_categories(labels)\n",
    "\n",
    "    all_areas_mileage_km = df\n",
    "    ranges_km  = [0.79, 8.0, 16.0, 24.0, 32.0, 48.0, 80.0, 160.0]\n",
    "    all_areas_mileage_km['mileage_bin_km'] = pd.cut(df['tripKM'], bins=ranges_km)\n",
    "    all_areas_mileage_km = all_areas_mileage_km.groupby([all_areas_mileage_km['mileage_bin_km']]).size().to_frame().reset_index().rename(columns={'mileage_bin_km': 'Mileage (km)', 0: 'Count'})\n",
    "    all_areas_mileage_km.sort_values(by='Mileage (km)')\n",
    "    labels = ['0.8 to 8', '8 - 16', '16 - 24', '24 - 32', '32 - 48', '48 - 80',  '80 - 160']\n",
    "    all_areas_mileage_km['Mileage (km)'] = all_areas_mileage_km['Mileage (km)'].cat.rename_categories(labels)\n",
    "\n",
    "    all_areas_time = df\n",
    "    ranges = [59.99, 300, 600, 900, 1200, 1800, 3600, 7200, np.inf]\n",
    "    all_areas_time['time_bin'] = pd.cut(df['tripSeconds'], bins=ranges)\n",
    "    all_areas_time = all_areas_time.groupby([all_areas_time['time_bin']]).size().to_frame().reset_index().rename(columns={'time_bin': 'timeTaken', 0: 'Count'})\n",
    "    all_areas_time.sort_values(by='timeTaken')\n",
    "    labels = ['1 - 5 min', '5 - 10 min', '10 - 15 min', '15 - 20 min', '20 - 30 min', '1/2 hr - 1 hr',  '1 -  2 hr', '> 2 Hr']\n",
    "    all_areas_time.timeTaken = all_areas_time.timeTaken.cat.rename_categories(labels)\n",
    "\n",
    "    all_areas_date.to_csv('allAreas/all_areas_date_{}.csv'.format(str), index=False)\n",
    "    all_areas_hour.to_csv('allAreas/all_areas_hour_{}.csv'.format(str), index=False)\n",
    "    all_areas_day.to_csv('allAreas/all_areas_day_{}.csv'.format(str), index=False)\n",
    "    all_areas_month.to_csv('allAreas/all_areas_month_{}.csv'.format(str), index=False)\n",
    "    all_areas_mileage_miles.to_csv('allAreas/all_areas_mileage_miles_{}.csv'.format(str), index=False)\n",
    "    all_areas_mileage_km.to_csv('allAreas/all_areas_mileage_km_{}.csv'.format(str), index=False)\n",
    "    all_areas_time.to_csv('allAreas/all_areas_time_{}.csv'.format(str), index=False)"
   ]
  },
  {
   "cell_type": "code",
   "execution_count": 235,
   "metadata": {},
   "outputs": [],
   "source": [
    "if __name__ == '__main__':\n",
    "    \n",
    "    filename = \"Taxi_Trips_-_2019.csv\"\n",
    "    df = pd.read_csv(filename)\n",
    "\n",
    "    with open('taxiDict.csv') as csv_file:\n",
    "        reader = csv.reader(csv_file)\n",
    "        mydict = dict(reader)\n",
    "\n",
    "    dictCompany = dict((v, int(k)) for k, v in mydict.items())\n",
    "\n",
    "    dfTaxi = preprocess(df, dictCompany)\n",
    "\n",
    "    for i in range(0,55):\n",
    "        dfTaxi[dfTaxi['company']==i].to_csv('csv/taxi{}.csv'.format(i), index=False)\n",
    "\n",
    "    preCalcAllArea(dfTaxi, \"outsideCity\")\n",
    "    dfTaxiSub = dfTaxi[~((dfTaxi['pickupArea']==78) | (dfTaxi['dropArea']==78))]\n",
    "    preCalcAllArea(dfTaxiSub, \"onlyCity\")"
   ]
  },
  {
   "cell_type": "code",
   "execution_count": null,
   "metadata": {},
   "outputs": [],
   "source": []
  }
 ],
 "metadata": {
  "interpreter": {
   "hash": "40d3a090f54c6569ab1632332b64b2c03c39dcf918b08424e98f38b5ae0af88f"
  },
  "kernelspec": {
   "display_name": "Python 3.8.2 ('base')",
   "language": "python",
   "name": "python3"
  },
  "language_info": {
   "codemirror_mode": {
    "name": "ipython",
    "version": 3
   },
   "file_extension": ".py",
   "mimetype": "text/x-python",
   "name": "python",
   "nbconvert_exporter": "python",
   "pygments_lexer": "ipython3",
   "version": "3.8.2"
  },
  "orig_nbformat": 4
 },
 "nbformat": 4,
 "nbformat_minor": 2
}
