{
 "cells": [
  {
   "cell_type": "code",
   "execution_count": 8,
   "id": "c3ca1c52",
   "metadata": {},
   "outputs": [],
   "source": [
    "library(shiny)\n",
    "library(ggplot2)\n",
    "library(lubridate)\n",
    "library(dplyr)\n",
    "library(DT)\n",
    "library(tidyverse)\n",
    "library(tidyr)\n",
    "library(scales)"
   ]
  },
  {
   "cell_type": "code",
   "execution_count": 15,
   "id": "a45704d2",
   "metadata": {},
   "outputs": [],
   "source": [
    "df <- read.csv(file = \"csv/chunk0.csv\", header = TRUE)"
   ]
  },
  {
   "cell_type": "code",
   "execution_count": 16,
   "id": "c9fc030d",
   "metadata": {},
   "outputs": [
    {
     "data": {
      "text/html": [
       "<table>\n",
       "<thead><tr><th scope=col>tripSeconds</th><th scope=col>tripMiles</th><th scope=col>pickupArea</th><th scope=col>dropArea</th><th scope=col>company</th><th scope=col>tripStartTime</th></tr></thead>\n",
       "<tbody>\n",
       "\t<tr><td>1260               </td><td>0.6                </td><td>77                 </td><td>28                 </td><td>23                 </td><td>2019-01-01 00:00:00</td></tr>\n",
       "\t<tr><td> 360               </td><td>0.8                </td><td> 8                 </td><td> 8                 </td><td>18                 </td><td>2019-01-01 00:00:00</td></tr>\n",
       "\t<tr><td> 360               </td><td>1.0                </td><td> 8                 </td><td> 8                 </td><td>18                 </td><td>2019-01-01 00:00:00</td></tr>\n",
       "\t<tr><td> 420               </td><td>0.8                </td><td> 8                 </td><td> 8                 </td><td>22                 </td><td>2019-01-01 00:00:00</td></tr>\n",
       "\t<tr><td> 180               </td><td>0.7                </td><td>77                 </td><td> 4                 </td><td>18                 </td><td>2019-01-01 00:00:00</td></tr>\n",
       "\t<tr><td> 960               </td><td>0.6                </td><td>28                 </td><td>32                 </td><td>18                 </td><td>2019-01-01 00:00:00</td></tr>\n",
       "</tbody>\n",
       "</table>\n"
      ],
      "text/latex": [
       "\\begin{tabular}{r|llllll}\n",
       " tripSeconds & tripMiles & pickupArea & dropArea & company & tripStartTime\\\\\n",
       "\\hline\n",
       "\t 1260                & 0.6                 & 77                  & 28                  & 23                  & 2019-01-01 00:00:00\\\\\n",
       "\t  360                & 0.8                 &  8                  &  8                  & 18                  & 2019-01-01 00:00:00\\\\\n",
       "\t  360                & 1.0                 &  8                  &  8                  & 18                  & 2019-01-01 00:00:00\\\\\n",
       "\t  420                & 0.8                 &  8                  &  8                  & 22                  & 2019-01-01 00:00:00\\\\\n",
       "\t  180                & 0.7                 & 77                  &  4                  & 18                  & 2019-01-01 00:00:00\\\\\n",
       "\t  960                & 0.6                 & 28                  & 32                  & 18                  & 2019-01-01 00:00:00\\\\\n",
       "\\end{tabular}\n"
      ],
      "text/markdown": [
       "\n",
       "| tripSeconds | tripMiles | pickupArea | dropArea | company | tripStartTime |\n",
       "|---|---|---|---|---|---|\n",
       "| 1260                | 0.6                 | 77                  | 28                  | 23                  | 2019-01-01 00:00:00 |\n",
       "|  360                | 0.8                 |  8                  |  8                  | 18                  | 2019-01-01 00:00:00 |\n",
       "|  360                | 1.0                 |  8                  |  8                  | 18                  | 2019-01-01 00:00:00 |\n",
       "|  420                | 0.8                 |  8                  |  8                  | 22                  | 2019-01-01 00:00:00 |\n",
       "|  180                | 0.7                 | 77                  |  4                  | 18                  | 2019-01-01 00:00:00 |\n",
       "|  960                | 0.6                 | 28                  | 32                  | 18                  | 2019-01-01 00:00:00 |\n",
       "\n"
      ],
      "text/plain": [
       "  tripSeconds tripMiles pickupArea dropArea company tripStartTime      \n",
       "1 1260        0.6       77         28       23      2019-01-01 00:00:00\n",
       "2  360        0.8        8          8       18      2019-01-01 00:00:00\n",
       "3  360        1.0        8          8       18      2019-01-01 00:00:00\n",
       "4  420        0.8        8          8       22      2019-01-01 00:00:00\n",
       "5  180        0.7       77          4       18      2019-01-01 00:00:00\n",
       "6  960        0.6       28         32       18      2019-01-01 00:00:00"
      ]
     },
     "metadata": {},
     "output_type": "display_data"
    }
   ],
   "source": [
    "head(df)"
   ]
  },
  {
   "cell_type": "code",
   "execution_count": null,
   "id": "15c184db",
   "metadata": {},
   "outputs": [],
   "source": []
  }
 ],
 "metadata": {
  "kernelspec": {
   "display_name": "R",
   "language": "R",
   "name": "ir"
  },
  "language_info": {
   "codemirror_mode": "r",
   "file_extension": ".r",
   "mimetype": "text/x-r-source",
   "name": "R",
   "pygments_lexer": "r",
   "version": "3.6.1"
  }
 },
 "nbformat": 4,
 "nbformat_minor": 5
}
